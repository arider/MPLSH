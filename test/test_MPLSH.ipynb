{
 "cells": [
  {
   "cell_type": "code",
   "execution_count": 1,
   "metadata": {
    "scrolled": false
   },
   "outputs": [
    {
     "ename": "ArgumentError",
     "evalue": "ArgumentError: Package MPLSH not found in current path:\n- Run `import Pkg; Pkg.add(\"MPLSH\")` to install the MPLSH package.\n",
     "output_type": "error",
     "traceback": [
      "ArgumentError: Package MPLSH not found in current path:\n- Run `import Pkg; Pkg.add(\"MPLSH\")` to install the MPLSH package.\n",
      "",
      "Stacktrace:",
      " [1] require(::Module, ::Symbol) at ./loading.jl:892",
      " [2] top-level scope at In[1]:5"
     ]
    }
   ],
   "source": [
    "using Plots\n",
    "using Distributions\n",
    "\n",
    "include(\"../src/MPLSH.jl\")\n",
    "using MPLSH\n",
    "\n",
    "a = rand(MvNormal([5, 5], [[1, .9]  [.9, 1]]), 100)'\n",
    "b = a * [-1 0; 0 1]\n",
    "c = a * [-5 .1; .1 -2]\n",
    "a = rand(MvNormal([5, 5], [[1, .9]  [.9, 1]]), 50)'\n",
    "d = a * [-2 .5; .1 -1]\n",
    "e = a * [-.5 0; 0 1] .- [-5 4]\n",
    "a = rand(MvNormal([5, 5], [[1, .9]  [.9, 1]]), 20)'\n",
    "f = a * [-.2 .5; .5 -.5] .- [-1 3]\n",
    "\n",
    "# println(\"shapes \", size(a), size(b))\n",
    "data = vcat(a, b, c, d, e, f)\n",
    "# scatter(data[:, 1], data[:, 2], legend=false)\n",
    "\n",
    "\n",
    "lsh_base = LSHBase(2, 1., 5)\n",
    "lsh = LSH(lsh_base, data)\n",
    "query = [-6, -2.5]\n",
    "# Get the 10 nearest neighbors.\n",
    "nns = nearest_neighbors(lsh, query, 10)\n",
    "print(typeof(nns))\n",
    "print(nns)\n",
    "scatter(data[:, 1], data[:, 2], alpha=.5, legend=false)\n",
    "scatter!(nns[:, 1], nns[:, 2], color=\"red\")\n",
    "scatter!([query[1]], [query[2]], color=\"yellow\")"
   ]
  },
  {
   "cell_type": "code",
   "execution_count": 2,
   "metadata": {},
   "outputs": [
    {
     "ename": "UndefVarError",
     "evalue": "UndefVarError: nearest_neighbors not defined",
     "output_type": "error",
     "traceback": [
      "UndefVarError: nearest_neighbors not defined",
      "",
      "Stacktrace:",
      " [1] top-level scope at In[2]:1"
     ]
    }
   ],
   "source": [
    "nns = nearest_neighbors(lsh, query, 1)\n",
    "print(typeof(nns))\n",
    "print(nns)\n",
    "scatter(data[:, 1], data[:, 2], alpha=.5, legend=false)\n",
    "scatter!(nns[:, 1], nns[:, 2], color=\"red\")\n",
    "scatter!([query[1]], [query[2]], color=\"yellow\")\n"
   ]
  },
  {
   "cell_type": "code",
   "execution_count": null,
   "metadata": {},
   "outputs": [],
   "source": []
  }
 ],
 "metadata": {
  "kernelspec": {
   "display_name": "Julia 1.4.0",
   "language": "julia",
   "name": "julia-1.4"
  },
  "language_info": {
   "file_extension": ".jl",
   "mimetype": "application/julia",
   "name": "julia",
   "version": "1.4.0"
  }
 },
 "nbformat": 4,
 "nbformat_minor": 4
}
